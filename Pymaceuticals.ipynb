{
 "cells": [
  {
   "cell_type": "code",
   "execution_count": null,
   "id": "57760d04-aef7-4930-8b31-7644df8af7a3",
   "metadata": {},
   "outputs": [],
   "source": []
  },
  {
   "cell_type": "code",
   "execution_count": null,
   "id": "5f892c9c-b4c0-4f4c-ad11-c54e85ca1df7",
   "metadata": {},
   "outputs": [],
   "source": []
  },
  {
   "cell_type": "code",
   "execution_count": 67,
   "id": "29ad47db-e07d-4ec1-a2a8-6672b9ff3313",
   "metadata": {},
   "outputs": [],
   "source": [
    "import matplotlib.pyplot as plt\n",
    "import pandas as pd\n",
    "import scipy.stats as st\n",
    "import numpy as np"
   ]
  },
  {
   "cell_type": "code",
   "execution_count": null,
   "id": "166d7df4-f922-4bdc-b30f-67f1aec0a878",
   "metadata": {},
   "outputs": [],
   "source": [
    "\n",
    "#import csv\n",
    "mouse_data = '/Users/anthonygarcia/Desktop/Mouse_metadata.csv'\n",
    "study_results = '/Users/anthonygarcia/Desktop/Study_results.csv'\n",
    "\n",
    "#read csv\n",
    "data_mouse = pd.read_csv(mouse_data)\n",
    "results_study = pd.read_csv(study_results)\n",
    "\n",
    "#merge csv\n",
    "mouse_study = pd.merge(data_mouse, results_study, how=\"left\", on=[\"Mouse ID\", \"Mouse ID\"])\n",
    "mouse_study\n",
    "\n"
   ]
  },
  {
   "cell_type": "code",
   "execution_count": 44,
   "id": "9dea99ea-2ce0-483c-a015-79b541756390",
   "metadata": {},
   "outputs": [
    {
     "data": {
      "text/plain": [
       "249"
      ]
     },
     "execution_count": 44,
     "metadata": {},
     "output_type": "execute_result"
    }
   ],
   "source": [
    "#Get the unique values of mice\n",
    "mice_count = mouse_study['Mouse ID'].nunique()\n",
    "mice_count"
   ]
  },
  {
   "cell_type": "code",
   "execution_count": 45,
   "id": "2356b2f0-cdc2-4daf-9aa7-633330a2fc3e",
   "metadata": {},
   "outputs": [
    {
     "data": {
      "text/html": [
       "<div>\n",
       "<style scoped>\n",
       "    .dataframe tbody tr th:only-of-type {\n",
       "        vertical-align: middle;\n",
       "    }\n",
       "\n",
       "    .dataframe tbody tr th {\n",
       "        vertical-align: top;\n",
       "    }\n",
       "\n",
       "    .dataframe thead th {\n",
       "        text-align: right;\n",
       "    }\n",
       "</style>\n",
       "<table border=\"1\" class=\"dataframe\">\n",
       "  <thead>\n",
       "    <tr style=\"text-align: right;\">\n",
       "      <th></th>\n",
       "      <th>Mouse ID</th>\n",
       "      <th>Drug Regimen</th>\n",
       "      <th>Sex</th>\n",
       "      <th>Age_months</th>\n",
       "      <th>Weight (g)</th>\n",
       "      <th>Timepoint</th>\n",
       "      <th>Tumor Volume (mm3)</th>\n",
       "      <th>Metastatic Sites</th>\n",
       "    </tr>\n",
       "  </thead>\n",
       "  <tbody>\n",
       "    <tr>\n",
       "      <th>908</th>\n",
       "      <td>g989</td>\n",
       "      <td>Propriva</td>\n",
       "      <td>Female</td>\n",
       "      <td>21</td>\n",
       "      <td>26</td>\n",
       "      <td>0</td>\n",
       "      <td>45.000000</td>\n",
       "      <td>0</td>\n",
       "    </tr>\n",
       "    <tr>\n",
       "      <th>909</th>\n",
       "      <td>g989</td>\n",
       "      <td>Propriva</td>\n",
       "      <td>Female</td>\n",
       "      <td>21</td>\n",
       "      <td>26</td>\n",
       "      <td>0</td>\n",
       "      <td>45.000000</td>\n",
       "      <td>0</td>\n",
       "    </tr>\n",
       "    <tr>\n",
       "      <th>910</th>\n",
       "      <td>g989</td>\n",
       "      <td>Propriva</td>\n",
       "      <td>Female</td>\n",
       "      <td>21</td>\n",
       "      <td>26</td>\n",
       "      <td>5</td>\n",
       "      <td>48.786801</td>\n",
       "      <td>0</td>\n",
       "    </tr>\n",
       "    <tr>\n",
       "      <th>911</th>\n",
       "      <td>g989</td>\n",
       "      <td>Propriva</td>\n",
       "      <td>Female</td>\n",
       "      <td>21</td>\n",
       "      <td>26</td>\n",
       "      <td>5</td>\n",
       "      <td>47.570392</td>\n",
       "      <td>0</td>\n",
       "    </tr>\n",
       "    <tr>\n",
       "      <th>912</th>\n",
       "      <td>g989</td>\n",
       "      <td>Propriva</td>\n",
       "      <td>Female</td>\n",
       "      <td>21</td>\n",
       "      <td>26</td>\n",
       "      <td>10</td>\n",
       "      <td>51.745156</td>\n",
       "      <td>0</td>\n",
       "    </tr>\n",
       "    <tr>\n",
       "      <th>913</th>\n",
       "      <td>g989</td>\n",
       "      <td>Propriva</td>\n",
       "      <td>Female</td>\n",
       "      <td>21</td>\n",
       "      <td>26</td>\n",
       "      <td>10</td>\n",
       "      <td>49.880528</td>\n",
       "      <td>0</td>\n",
       "    </tr>\n",
       "    <tr>\n",
       "      <th>914</th>\n",
       "      <td>g989</td>\n",
       "      <td>Propriva</td>\n",
       "      <td>Female</td>\n",
       "      <td>21</td>\n",
       "      <td>26</td>\n",
       "      <td>15</td>\n",
       "      <td>51.325852</td>\n",
       "      <td>1</td>\n",
       "    </tr>\n",
       "    <tr>\n",
       "      <th>915</th>\n",
       "      <td>g989</td>\n",
       "      <td>Propriva</td>\n",
       "      <td>Female</td>\n",
       "      <td>21</td>\n",
       "      <td>26</td>\n",
       "      <td>15</td>\n",
       "      <td>53.442020</td>\n",
       "      <td>0</td>\n",
       "    </tr>\n",
       "    <tr>\n",
       "      <th>916</th>\n",
       "      <td>g989</td>\n",
       "      <td>Propriva</td>\n",
       "      <td>Female</td>\n",
       "      <td>21</td>\n",
       "      <td>26</td>\n",
       "      <td>20</td>\n",
       "      <td>55.326122</td>\n",
       "      <td>1</td>\n",
       "    </tr>\n",
       "    <tr>\n",
       "      <th>917</th>\n",
       "      <td>g989</td>\n",
       "      <td>Propriva</td>\n",
       "      <td>Female</td>\n",
       "      <td>21</td>\n",
       "      <td>26</td>\n",
       "      <td>20</td>\n",
       "      <td>54.657650</td>\n",
       "      <td>1</td>\n",
       "    </tr>\n",
       "  </tbody>\n",
       "</table>\n",
       "</div>"
      ],
      "text/plain": [
       "    Mouse ID Drug Regimen     Sex  Age_months  Weight (g)  Timepoint  \\\n",
       "908     g989     Propriva  Female          21          26          0   \n",
       "909     g989     Propriva  Female          21          26          0   \n",
       "910     g989     Propriva  Female          21          26          5   \n",
       "911     g989     Propriva  Female          21          26          5   \n",
       "912     g989     Propriva  Female          21          26         10   \n",
       "913     g989     Propriva  Female          21          26         10   \n",
       "914     g989     Propriva  Female          21          26         15   \n",
       "915     g989     Propriva  Female          21          26         15   \n",
       "916     g989     Propriva  Female          21          26         20   \n",
       "917     g989     Propriva  Female          21          26         20   \n",
       "\n",
       "     Tumor Volume (mm3)  Metastatic Sites  \n",
       "908           45.000000                 0  \n",
       "909           45.000000                 0  \n",
       "910           48.786801                 0  \n",
       "911           47.570392                 0  \n",
       "912           51.745156                 0  \n",
       "913           49.880528                 0  \n",
       "914           51.325852                 1  \n",
       "915           53.442020                 0  \n",
       "916           55.326122                 1  \n",
       "917           54.657650                 1  "
      ]
     },
     "execution_count": 45,
     "metadata": {},
     "output_type": "execute_result"
    }
   ],
   "source": [
    "#list of duplicates\n",
    "duplicates = pd.concat(m for _, m in mouse_study.groupby([\"Mouse ID\",\"Timepoint\"]) if len(m) > 1)\n",
    "duplicates"
   ]
  },
  {
   "cell_type": "code",
   "execution_count": null,
   "id": "b9aa5e04-8cc3-4881-9a59-1933e3d31a80",
   "metadata": {},
   "outputs": [],
   "source": [
    "#cleaned DF with dropped duplicates\n",
    "drop_dup = mouse_study.drop_duplicates(subset=['Mouse ID', 'Timepoint'], keep=False)\n",
    "\n",
    "#shows all rows/columns\n",
    "pd.set_option(\"display.max_rows\", None, \"display.max_columns\", None)\n",
    "print(drop_dup)\n",
    "\n"
   ]
  },
  {
   "cell_type": "code",
   "execution_count": 47,
   "id": "a44e72a0-ba0c-4d6d-9a80-5d6fad329946",
   "metadata": {},
   "outputs": [
    {
     "data": {
      "text/plain": [
       "249"
      ]
     },
     "execution_count": 47,
     "metadata": {},
     "output_type": "execute_result"
    }
   ],
   "source": [
    "new_count = drop_dup['Mouse ID'].nunique()\n",
    "new_count"
   ]
  },
  {
   "cell_type": "code",
   "execution_count": 48,
   "id": "afd4b406-5c8c-4899-ab0a-f97a70b52c38",
   "metadata": {},
   "outputs": [
    {
     "data": {
      "text/html": [
       "<div>\n",
       "<style scoped>\n",
       "    .dataframe tbody tr th:only-of-type {\n",
       "        vertical-align: middle;\n",
       "    }\n",
       "\n",
       "    .dataframe tbody tr th {\n",
       "        vertical-align: top;\n",
       "    }\n",
       "\n",
       "    .dataframe thead th {\n",
       "        text-align: right;\n",
       "    }\n",
       "</style>\n",
       "<table border=\"1\" class=\"dataframe\">\n",
       "  <thead>\n",
       "    <tr style=\"text-align: right;\">\n",
       "      <th></th>\n",
       "      <th>mean</th>\n",
       "      <th>median</th>\n",
       "      <th>var</th>\n",
       "      <th>std</th>\n",
       "      <th>sem</th>\n",
       "    </tr>\n",
       "    <tr>\n",
       "      <th>Drug Regimen</th>\n",
       "      <th></th>\n",
       "      <th></th>\n",
       "      <th></th>\n",
       "      <th></th>\n",
       "      <th></th>\n",
       "    </tr>\n",
       "  </thead>\n",
       "  <tbody>\n",
       "    <tr>\n",
       "      <th>Capomulin</th>\n",
       "      <td>40.675741</td>\n",
       "      <td>41.557809</td>\n",
       "      <td>24.947764</td>\n",
       "      <td>4.994774</td>\n",
       "      <td>0.329346</td>\n",
       "    </tr>\n",
       "    <tr>\n",
       "      <th>Ceftamin</th>\n",
       "      <td>52.591172</td>\n",
       "      <td>51.776157</td>\n",
       "      <td>39.290177</td>\n",
       "      <td>6.268188</td>\n",
       "      <td>0.469821</td>\n",
       "    </tr>\n",
       "    <tr>\n",
       "      <th>Infubinol</th>\n",
       "      <td>52.884795</td>\n",
       "      <td>51.820584</td>\n",
       "      <td>43.128684</td>\n",
       "      <td>6.567243</td>\n",
       "      <td>0.492236</td>\n",
       "    </tr>\n",
       "    <tr>\n",
       "      <th>Ketapril</th>\n",
       "      <td>55.235638</td>\n",
       "      <td>53.698743</td>\n",
       "      <td>68.553577</td>\n",
       "      <td>8.279709</td>\n",
       "      <td>0.603860</td>\n",
       "    </tr>\n",
       "    <tr>\n",
       "      <th>Naftisol</th>\n",
       "      <td>54.331565</td>\n",
       "      <td>52.509285</td>\n",
       "      <td>66.173479</td>\n",
       "      <td>8.134708</td>\n",
       "      <td>0.596466</td>\n",
       "    </tr>\n",
       "    <tr>\n",
       "      <th>Placebo</th>\n",
       "      <td>54.033581</td>\n",
       "      <td>52.288934</td>\n",
       "      <td>61.168083</td>\n",
       "      <td>7.821003</td>\n",
       "      <td>0.581331</td>\n",
       "    </tr>\n",
       "    <tr>\n",
       "      <th>Propriva</th>\n",
       "      <td>52.458254</td>\n",
       "      <td>50.854632</td>\n",
       "      <td>44.053659</td>\n",
       "      <td>6.637293</td>\n",
       "      <td>0.540135</td>\n",
       "    </tr>\n",
       "    <tr>\n",
       "      <th>Ramicane</th>\n",
       "      <td>40.216745</td>\n",
       "      <td>40.673236</td>\n",
       "      <td>23.486704</td>\n",
       "      <td>4.846308</td>\n",
       "      <td>0.320955</td>\n",
       "    </tr>\n",
       "    <tr>\n",
       "      <th>Stelasyn</th>\n",
       "      <td>54.233149</td>\n",
       "      <td>52.431737</td>\n",
       "      <td>59.450562</td>\n",
       "      <td>7.710419</td>\n",
       "      <td>0.573111</td>\n",
       "    </tr>\n",
       "    <tr>\n",
       "      <th>Zoniferol</th>\n",
       "      <td>53.236507</td>\n",
       "      <td>51.818479</td>\n",
       "      <td>48.533355</td>\n",
       "      <td>6.966589</td>\n",
       "      <td>0.516398</td>\n",
       "    </tr>\n",
       "  </tbody>\n",
       "</table>\n",
       "</div>"
      ],
      "text/plain": [
       "                   mean     median        var       std       sem\n",
       "Drug Regimen                                                     \n",
       "Capomulin     40.675741  41.557809  24.947764  4.994774  0.329346\n",
       "Ceftamin      52.591172  51.776157  39.290177  6.268188  0.469821\n",
       "Infubinol     52.884795  51.820584  43.128684  6.567243  0.492236\n",
       "Ketapril      55.235638  53.698743  68.553577  8.279709  0.603860\n",
       "Naftisol      54.331565  52.509285  66.173479  8.134708  0.596466\n",
       "Placebo       54.033581  52.288934  61.168083  7.821003  0.581331\n",
       "Propriva      52.458254  50.854632  44.053659  6.637293  0.540135\n",
       "Ramicane      40.216745  40.673236  23.486704  4.846308  0.320955\n",
       "Stelasyn      54.233149  52.431737  59.450562  7.710419  0.573111\n",
       "Zoniferol     53.236507  51.818479  48.533355  6.966589  0.516398"
      ]
     },
     "execution_count": 48,
     "metadata": {},
     "output_type": "execute_result"
    }
   ],
   "source": [
    "#summary statistics and new dataframe\n",
    "clean_data = drop_dup.groupby(\"Drug Regimen\")\n",
    "mean = drop_dup.groupby(['Drug Regimen'])[\"Tumor Volume (mm3)\"].mean()\n",
    "median = drop_dup.groupby(['Drug Regimen'])[\"Tumor Volume (mm3)\"].median()\n",
    "var = drop_dup.groupby(['Drug Regimen'])[\"Tumor Volume (mm3)\"].var()\n",
    "std_dev = drop_dup.groupby(['Drug Regimen'])[\"Tumor Volume (mm3)\"].std()\n",
    "sem = drop_dup.groupby(['Drug Regimen'])[\"Tumor Volume (mm3)\"].sem()\n",
    "\n",
    "\n",
    "new_df = pd.DataFrame({'Mean': mean, 'Median': median, \"Variance\": var, \"Standard Deviation\": std_dev, \"SEM\": sem})\n",
    "\n",
    "stat_summary = drop_dup.groupby(\"Drug Regimen\")[\"Tumor Volume (mm3)\"].agg(['mean','median','var','std','sem'])\n",
    "stat_summary\n",
    "\n"
   ]
  },
  {
   "cell_type": "code",
   "execution_count": 49,
   "id": "e9379a2d-b2da-4643-96f0-dde601228d7c",
   "metadata": {},
   "outputs": [],
   "source": [
    "drug_name = ['Capomulin','Ceftamin','Infubinol','Ketapril','Naftisol','Placebo','Propriva','Ramicane','Stelasyn','Zoniferol']\n",
    "y = drop_dup.groupby('Drug Regimen')\n",
    "mice_regimen = drop_dup.groupby('Drug Regimen')['Timepoint'].sum()\n",
    "\n"
   ]
  },
  {
   "cell_type": "code",
   "execution_count": 50,
   "id": "9964eb7f-8dad-4a1f-82e2-fa34d22c5a90",
   "metadata": {},
   "outputs": [
    {
     "data": {
      "image/png": "[encoded data removed]",
      "text/plain": [
       "<Figure size 720x432 with 1 Axes>"
      ]
     },
     "metadata": {
      "needs_background": "light"
     },
     "output_type": "display_data"
    }
   ],
   "source": [
    "pandas_plot = mice_regimen.plot(kind='bar', title='Total Timepoints per Drug Regimen',\n",
    "               ylabel='Timepoints', xlabel='Drug Regimen',color='blue', figsize=(10, 6), rot=5)\n",
    "\n"
   ]
  },
  {
   "cell_type": "code",
   "execution_count": 66,
   "id": "6f816ecb-ae01-48ed-b031-275ddbe51ab0",
   "metadata": {},
   "outputs": [
    {
     "data": {
      "image/png": "[encoded data removed]",
      "text/plain": [
       "<Figure size 720x432 with 1 Axes>"
      ]
     },
     "metadata": {
      "needs_background": "light"
     },
     "output_type": "display_data"
    }
   ],
   "source": [
    "drug_name = ['Capomulin','Ceftamin','Infubinol','Ketapril','Naftisol','Placebo','Propriva','Ramicane','Stelasyn','Zoniferol']\n",
    "x_axis = np.arange(len(mice_regimen))\n",
    "tick_location = [x for x in x_axis]\n",
    "\n",
    "resize = plt.figure(figsize=(10,6))\n",
    "plt_bar = plt.bar(x_axis, mice_regimen, color='blue', align='center', width=0.50)\n",
    "ticks = plt.xticks(tick_location,drug_name, rotation=25)\n",
    "\n",
    "plt.xlim(-.75,10)\n",
    "plt.ylim(0,5500)\n",
    "plt.title(\"Total Timepoints Per Drug Regimen\")\n",
    "plt.xlabel(\"Drug Regimen\")\n",
    "plt.ylabel(\"Timepoints\")\n",
    "plt.show()"
   ]
  },
  {
   "cell_type": "code",
   "execution_count": 52,
   "id": "6d11f3d2-047c-4df9-997f-cc68c485d560",
   "metadata": {},
   "outputs": [
    {
     "data": {
      "text/plain": [
       "Sex\n",
       "Male      958\n",
       "Female    925\n",
       "dtype: int64"
      ]
     },
     "execution_count": 52,
     "metadata": {},
     "output_type": "execute_result"
    }
   ],
   "source": [
    "gender_count = drop_dup.value_counts('Sex')\n",
    "gender_count\n",
    "\n"
   ]
  },
  {
   "cell_type": "code",
   "execution_count": 53,
   "id": "f520d21c-b8d7-4d31-b2a2-54b40c6478d5",
   "metadata": {},
   "outputs": [
    {
     "data": {
      "image/png": "[encoded data removed]",
      "text/plain": [
       "<Figure size 504x504 with 1 Axes>"
      ]
     },
     "metadata": {},
     "output_type": "display_data"
    }
   ],
   "source": [
    "#pie graph using pandas\n",
    "gender_plot = gender_count.plot.pie(y='Sex',autopct='%1.0f%%',colors=['steelblue','red'],title='Distribution between Female and Male Mice',shadow=True,startangle=90,legend=True, figsize=(7,7))\n",
    "gender_plot.set_ylabel(None)\n",
    "plt.show()"
   ]
  },
  {
   "cell_type": "code",
   "execution_count": 54,
   "id": "426428e0-0019-47a2-bb03-957079e47cf4",
   "metadata": {},
   "outputs": [
    {
     "data": {
      "image/png": "[encoded data removed]",
      "text/plain": [
       "<Figure size 504x504 with 1 Axes>"
      ]
     },
     "metadata": {},
     "output_type": "display_data"
    }
   ],
   "source": [
    "#pie graph using PyPlot\n",
    "plt.pie(gender_count, labels=['Male','Female'], startangle=90, shadow=True, colors=['steelblue','red'],autopct='%1.0f%%')\n",
    "plt.title('Distribution between Male and Female Mice', loc= 'center')\n",
    "plt.legend()\n",
    "fig = plt.gcf()\n",
    "fig.set_size_inches(7,7)\n",
    "\n"
   ]
  },
  {
   "cell_type": "code",
   "execution_count": null,
   "id": "8a4079e2-6cb5-4521-8038-1ae4c03d125a",
   "metadata": {},
   "outputs": [],
   "source": [
    "#filter data through 4 of the treatment regimens\n",
    "final_tum_vol = drop_dup[drop_dup['Drug Regimen'].isin(['Capomulin','Ramicane','Infubinol','Ceftamin'])]\n",
    "final_tum_vol"
   ]
  },
  {
   "cell_type": "code",
   "execution_count": null,
   "id": "8f41633b-a94d-4546-bdc0-d77201c996f5",
   "metadata": {},
   "outputs": [],
   "source": [
    "# Get the greatest timepoint for each mouse and merge data\n",
    "max_time = final_tum_vol.groupby(['Mouse ID','Drug Regimen']).max('Timepoint').reset_index()\n",
    "\n",
    "merge_data = max_time[['Mouse ID', 'Timepoint']].merge(drop_dup, on = ['Mouse ID', 'Timepoint'], how = 'left')\n",
    "merge_data"
   ]
  },
  {
   "cell_type": "code",
   "execution_count": 57,
   "id": "febb487e-e938-4088-b6a6-319d9df7edc9",
   "metadata": {},
   "outputs": [
    {
     "data": {
      "text/plain": [
       "Series([], Name: Tumor Volume (mm3), dtype: float64)"
      ]
     },
     "execution_count": 57,
     "metadata": {},
     "output_type": "execute_result"
    }
   ],
   "source": [
    "capo = merge_data.loc[merge_data['Drug Regimen']=='Capomulin']['Tumor Volume (mm3)']\n",
    "quantiles = capo.quantile([.25,.5,.75])\n",
    "lower = quantiles[.25]\n",
    "upper = quantiles[.75]\n",
    "iqr = upper - lower\n",
    "lower_bound = lower-(1.5*iqr)\n",
    "upper_bound = upper+(1.5*iqr)\n",
    "outlier = capo.loc[(capo < lower_bound) | (capo > upper_bound)]\n",
    "outlier"
   ]
  },
  {
   "cell_type": "code",
   "execution_count": 58,
   "id": "57afaf9b-4627-4b7e-8450-6205bfd8d158",
   "metadata": {},
   "outputs": [
    {
     "data": {
      "text/plain": [
       "Series([], Name: Tumor Volume (mm3), dtype: float64)"
      ]
     },
     "execution_count": 58,
     "metadata": {},
     "output_type": "execute_result"
    }
   ],
   "source": [
    "ram = merge_data.loc[merge_data['Drug Regimen']=='Ramicane']['Tumor Volume (mm3)']\n",
    "quant = ram.quantile([.25,.5,.75])\n",
    "lower_ = quantiles[.25]\n",
    "upper_ = quantiles[.75]\n",
    "iqr_ = upper_ - lower_\n",
    "l_bound = lower_-(1.5*iqr)\n",
    "u_bound = upper_+(1.5*iqr)\n",
    "out_lier = ram.loc[(ram < l_bound) | (ram > u_bound)]\n",
    "out_lier"
   ]
  },
  {
   "cell_type": "code",
   "execution_count": 59,
   "id": "ba1baa37-8cc7-4f8d-9b5e-a7791162d01e",
   "metadata": {},
   "outputs": [
    {
     "data": {
      "text/plain": [
       "15    36.321346\n",
       "Name: Tumor Volume (mm3), dtype: float64"
      ]
     },
     "execution_count": 59,
     "metadata": {},
     "output_type": "execute_result"
    }
   ],
   "source": [
    "infub = merge_data.loc[merge_data['Drug Regimen']=='Infubinol']['Tumor Volume (mm3)']\n",
    "q = infub.quantile([.25,.5,.75])\n",
    "q1 = q[.25]\n",
    "q3 = q[.75]\n",
    "i_qr = q3 - q1\n",
    "low_bound = q1-(1.5*i_qr)\n",
    "up_bound = q3+(1.5*i_qr)\n",
    "out = infub.loc[(infub < low_bound) | (infub > up_bound)]\n",
    "out"
   ]
  },
  {
   "cell_type": "code",
   "execution_count": 60,
   "id": "823b768a-9d42-4607-a5d9-718c84160f7c",
   "metadata": {},
   "outputs": [
    {
     "data": {
      "text/plain": [
       "Series([], Name: Tumor Volume (mm3), dtype: float64)"
      ]
     },
     "execution_count": 60,
     "metadata": {},
     "output_type": "execute_result"
    }
   ],
   "source": [
    "ceft = merge_data.loc[merge_data['Drug Regimen']=='Ceftamin']['Tumor Volume (mm3)']\n",
    "quan = ceft.quantile([.25,.5,.75])\n",
    "low = quan[.25]\n",
    "up = quan[.75]\n",
    "iq_r = up - low\n",
    "lo_bound = low-(1.5*iq_r)\n",
    "upp_bound = up+(1.5*iq_r)\n",
    "outlier = ceft.loc[(ceft < lo_bound) | (ceft > upp_bound)]\n",
    "outlier"
   ]
  },
  {
   "cell_type": "code",
   "execution_count": 61,
   "id": "0b2648dd-9c4b-40fa-a887-c6ed4907e5b0",
   "metadata": {},
   "outputs": [
    {
     "data": {
      "image/png": "[encoded data removed]",
      "text/plain": [
       "<Figure size 720x504 with 1 Axes>"
      ]
     },
     "metadata": {
      "needs_background": "light"
     },
     "output_type": "display_data"
    }
   ],
   "source": [
    "#create a boxplot\n",
    "\n",
    "labels = ['Capomulin','Ramicane','Infubinol','Ceftamin']\n",
    "quartiles = [capo,ram,infub,ceft]\n",
    "\n",
    "medianpoints = dict(linestyle='-', linewidth=3, color='blue')\n",
    "flierprops = dict(marker='*',markerfacecolor='green',markersize=15)\n",
    "plt.boxplot(quartiles,labels=labels,flierprops=flierprops, medianprops=medianpoints)\n",
    "\n",
    "plt.xlabel('Drug Regimen')\n",
    "plt.ylabel('Tumor Volume (mm3)')\n",
    "fig = plt.gcf()\n",
    "fig.set_size_inches(10,7)\n",
    "plt.show()"
   ]
  },
  {
   "cell_type": "code",
   "execution_count": 62,
   "id": "6b0b306b-8d60-4c26-8a9b-3495755f28bb",
   "metadata": {},
   "outputs": [
    {
     "data": {
      "image/png": "[encoded data removed]",
      "text/plain": [
       "<Figure size 720x504 with 1 Axes>"
      ]
     },
     "metadata": {
      "needs_background": "light"
     },
     "output_type": "display_data"
    }
   ],
   "source": [
    "#lineplot\n",
    "mouse = drop_dup.loc[drop_dup['Mouse ID'].isin(['b128'])]\n",
    "\n",
    "x = mouse['Timepoint']\n",
    "y=mouse['Tumor Volume (mm3)']\n",
    "\n",
    "plt.plot(x,y)\n",
    "plt.xlabel('Timepoint')\n",
    "plt.ylabel('Tumor Volume (mm3)')\n",
    "plt.title('Timepoint vs. Tumor Volume for Mouse b128')\n",
    "fig = plt.gcf()\n",
    "fig.set_size_inches(10,7)\n",
    "\n",
    "plt.show()\n",
    "\n"
   ]
  },
  {
   "cell_type": "code",
   "execution_count": 63,
   "id": "aa969ec0-4fe7-4d85-9c25-5c7878e6bed2",
   "metadata": {},
   "outputs": [
    {
     "data": {
      "image/png": "[encoded data removed]",
      "text/plain": [
       "<Figure size 720x504 with 1 Axes>"
      ]
     },
     "metadata": {
      "needs_background": "light"
     },
     "output_type": "display_data"
    }
   ],
   "source": [
    "#Create scatter plot of avg tumor volume vs weight\n",
    "\n",
    "capomulin_data = drop_dup[drop_dup['Drug Regimen'].isin(['Capomulin'])]\n",
    "\n",
    "avg_tumor = capomulin_data.groupby('Mouse ID')['Tumor Volume (mm3)'].mean()\n",
    "m_weight = capomulin_data.groupby('Mouse ID')['Weight (g)'].mean()\n",
    "\n",
    "x= m_weight\n",
    "y= avg_tumor\n",
    "\n",
    "plt.scatter(x,y)\n",
    "\n",
    "\n",
    "plt.title(\"Average Tumor Volume vs. Weight (g)\")\n",
    "plt.xlabel(\"Weight (g)\")\n",
    "plt.ylabel(\"Average Tumor Volume\")\n",
    "fig = plt.gcf()\n",
    "fig.set_size_inches(10,7)\n",
    "\n",
    "plt.show()\n"
   ]
  },
  {
   "cell_type": "code",
   "execution_count": 64,
   "id": "0d16e3c0-6631-4abc-99e6-3d72654502c3",
   "metadata": {},
   "outputs": [
    {
     "data": {
      "image/png": "[encoded data removed]",
      "text/plain": [
       "<Figure size 720x504 with 1 Axes>"
      ]
     },
     "metadata": {
      "needs_background": "light"
     },
     "output_type": "display_data"
    }
   ],
   "source": [
    "from sklearn.linear_model import LinearRegression\n",
    "\n",
    "#calculate the correlation and linear regression\n",
    "capomulin_data = drop_dup[drop_dup['Drug Regimen'].isin(['Capomulin'])]\n",
    "\n",
    "avg_tumor = capomulin_data.groupby('Mouse ID')['Tumor Volume (mm3)'].mean()\n",
    "m_weight = capomulin_data.groupby('Mouse ID')['Weight (g)'].mean()\n",
    "\n",
    "x= m_weight\n",
    "y= avg_tumor\n",
    "\n",
    "correlation = x.corr(y)\n",
    "\n",
    "x_val = m_weight.values.reshape(-1,1)\n",
    "y_val = avg_tumor.values.reshape(-1,1)\n",
    "\n",
    "l_regress = LinearRegression()\n",
    "l_regress.fit(x_val,y_val)\n",
    "y_pred = l_regress.predict(x_val)\n",
    "\n",
    "plt.scatter(x_val,y_val)\n",
    "plt.plot(x,y_pred, color='red')\n",
    "plt.xlabel(\"Weight (g)\")\n",
    "plt.ylabel(\"Average Tumor Volume (mm3)\")\n",
    "plt.title('Average Tumor Volume by Weight')\n",
    "fig = plt.gcf()\n",
    "fig.set_size_inches(10,7)\n",
    "plt.show()"
   ]
  },
  {
   "cell_type": "code",
   "execution_count": null,
   "id": "275b1873-7693-4f93-9c67-0fdef6dd087c",
   "metadata": {},
   "outputs": [],
   "source": []
  },
  {
   "cell_type": "code",
   "execution_count": null,
   "id": "64b3a0aa-7477-467a-b4d7-9a46bd4a3c60",
   "metadata": {},
   "outputs": [],
   "source": []
  },
  {
   "cell_type": "code",
   "execution_count": null,
   "id": "883bf027-ba07-47c8-adab-e4ef74f1dae3",
   "metadata": {},
   "outputs": [],
   "source": []
  },
  {
   "cell_type": "code",
   "execution_count": null,
   "id": "80bc886b-ec0f-4d4e-8185-94ee9cec2d6b",
   "metadata": {},
   "outputs": [],
   "source": []
  },
  {
   "cell_type": "code",
   "execution_count": null,
   "id": "3e7f134a-0b46-4779-af0a-29b4244b3413",
   "metadata": {},
   "outputs": [],
   "source": []
  },
  {
   "cell_type": "code",
   "execution_count": null,
   "id": "33e5950c-499f-4202-bccc-92ec3fbf888a",
   "metadata": {},
   "outputs": [],
   "source": []
  }
 ],
 "metadata": {
  "kernelspec": {
   "display_name": "Python 3 (ipykernel)",
   "language": "python",
   "name": "python3"
  },
  "language_info": {
   "codemirror_mode": {
    "name": "ipython",
    "version": 3
   },
   "file_extension": ".py",
   "mimetype": "text/x-python",
   "name": "python",
   "nbconvert_exporter": "python",
   "pygments_lexer": "ipython3",
   "version": "3.9.7"
  }
 },
 "nbformat": 4,
 "nbformat_minor": 5
}
